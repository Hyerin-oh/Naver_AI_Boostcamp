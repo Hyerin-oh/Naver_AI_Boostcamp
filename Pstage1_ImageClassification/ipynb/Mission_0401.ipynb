{
 "cells": [
  {
   "cell_type": "code",
   "execution_count": 1,
   "id": "magnetic-order",
   "metadata": {},
   "outputs": [],
   "source": [
    "import pandas as pd\n",
    "import numpy as np\n",
    "import os \n",
    "import shutil\n",
    "from tqdm import tqdm\n",
    "\n",
    "import copy\n",
    "import torch\n",
    "from torch import nn, optim\n",
    "from torch.nn import functional as F\n",
    "from torchvision import datasets, transforms\n",
    "from torch.utils.data import Dataset , DataLoader\n",
    "import torchvision.models as models\n",
    "\n",
    "\n",
    "import albumentations as A\n",
    "import albumentations.pytorch\n",
    "\n",
    "from efficientnet_pytorch import EfficientNet\n",
    "    \n",
    "from sklearn.model_selection import KFold\n",
    "from sklearn.model_selection import train_test_split\n",
    "from sklearn.metrics import confusion_matrix\n",
    "from sklearn.metrics import accuracy_score, precision_score, recall_score, f1_score\n",
    "\n",
    "import time\n",
    "import cv2\n",
    "import matplotlib.pyplot as plt\n",
    "from PIL import Image\n",
    "%matplotlib inline  \n",
    "%config InlineBackend.figure_format='retina'\n",
    "\n",
    "device = torch.device(\"cuda:0\" if torch.cuda.is_available() else \"cpu\")"
   ]
  },
  {
   "cell_type": "code",
   "execution_count": 2,
   "id": "experienced-ending",
   "metadata": {},
   "outputs": [],
   "source": [
    "# hyperparameter \n",
    "img_path = 'input/data/train/images'\n",
    "batch_size = 128\n",
    "num_workers = 2\n",
    "learning_rate = 0.001\n",
    "epochs = 100\n",
    "img_size = 256\n",
    "num_class = 18\n",
    "early_stop = 10\n",
    "num_accum = 4"
   ]
  },
  {
   "cell_type": "code",
   "execution_count": 3,
   "id": "japanese-wesley",
   "metadata": {},
   "outputs": [
    {
     "data": {
      "text/html": [
       "<div>\n",
       "<style scoped>\n",
       "    .dataframe tbody tr th:only-of-type {\n",
       "        vertical-align: middle;\n",
       "    }\n",
       "\n",
       "    .dataframe tbody tr th {\n",
       "        vertical-align: top;\n",
       "    }\n",
       "\n",
       "    .dataframe thead th {\n",
       "        text-align: right;\n",
       "    }\n",
       "</style>\n",
       "<table border=\"1\" class=\"dataframe\">\n",
       "  <thead>\n",
       "    <tr style=\"text-align: right;\">\n",
       "      <th></th>\n",
       "      <th>path</th>\n",
       "      <th>id</th>\n",
       "      <th>mask</th>\n",
       "      <th>gender</th>\n",
       "      <th>age</th>\n",
       "      <th>label</th>\n",
       "    </tr>\n",
       "  </thead>\n",
       "  <tbody>\n",
       "    <tr>\n",
       "      <th>0</th>\n",
       "      <td>input/data/train/images/000001_female_Asian_45...</td>\n",
       "      <td>000001</td>\n",
       "      <td>0</td>\n",
       "      <td>1</td>\n",
       "      <td>1</td>\n",
       "      <td>4</td>\n",
       "    </tr>\n",
       "    <tr>\n",
       "      <th>1</th>\n",
       "      <td>input/data/train/images/000001_female_Asian_45...</td>\n",
       "      <td>000001</td>\n",
       "      <td>2</td>\n",
       "      <td>1</td>\n",
       "      <td>1</td>\n",
       "      <td>16</td>\n",
       "    </tr>\n",
       "    <tr>\n",
       "      <th>2</th>\n",
       "      <td>input/data/train/images/000001_female_Asian_45...</td>\n",
       "      <td>000001</td>\n",
       "      <td>0</td>\n",
       "      <td>1</td>\n",
       "      <td>1</td>\n",
       "      <td>4</td>\n",
       "    </tr>\n",
       "    <tr>\n",
       "      <th>3</th>\n",
       "      <td>input/data/train/images/000001_female_Asian_45...</td>\n",
       "      <td>000001</td>\n",
       "      <td>0</td>\n",
       "      <td>1</td>\n",
       "      <td>1</td>\n",
       "      <td>4</td>\n",
       "    </tr>\n",
       "    <tr>\n",
       "      <th>4</th>\n",
       "      <td>input/data/train/images/000001_female_Asian_45...</td>\n",
       "      <td>000001</td>\n",
       "      <td>1</td>\n",
       "      <td>1</td>\n",
       "      <td>1</td>\n",
       "      <td>10</td>\n",
       "    </tr>\n",
       "  </tbody>\n",
       "</table>\n",
       "</div>"
      ],
      "text/plain": [
       "                                                path      id  mask  gender  \\\n",
       "0  input/data/train/images/000001_female_Asian_45...  000001     0       1   \n",
       "1  input/data/train/images/000001_female_Asian_45...  000001     2       1   \n",
       "2  input/data/train/images/000001_female_Asian_45...  000001     0       1   \n",
       "3  input/data/train/images/000001_female_Asian_45...  000001     0       1   \n",
       "4  input/data/train/images/000001_female_Asian_45...  000001     1       1   \n",
       "\n",
       "   age  label  \n",
       "0    1      4  \n",
       "1    1     16  \n",
       "2    1      4  \n",
       "3    1      4  \n",
       "4    1     10  "
      ]
     },
     "execution_count": 3,
     "metadata": {},
     "output_type": "execute_result"
    }
   ],
   "source": [
    "df = pd.read_csv('preprocessing_data.csv')\n",
    "df.drop(columns=['Unnamed: 0'], inplace = True)\n",
    "df.head()"
   ]
  },
  {
   "cell_type": "code",
   "execution_count": 4,
   "id": "recent-article",
   "metadata": {},
   "outputs": [],
   "source": [
    "class CustomDataset(torch.utils.data.Dataset):\n",
    "    def __init__(self, path , df ,transform = None):\n",
    "        \n",
    "        self.path = path\n",
    "        self.df = df\n",
    "        self.transform = transform\n",
    "        \n",
    "    def __getitem__(self,idx):\n",
    "        image = cv2.imread(self.df['path'].iloc[idx])\n",
    "        image = cv2.cvtColor(image, cv2.COLOR_BGR2RGB)\n",
    "        if self.transform:\n",
    "            augmented = self.transform(image=image) \n",
    "            image = augmented['image']\n",
    "        label = self.df['label'].iloc[idx]\n",
    "        return image, label\n",
    "\n",
    "    def __len__(self):\n",
    "        return len(self.df)"
   ]
  },
  {
   "cell_type": "code",
   "execution_count": 5,
   "id": "valued-calvin",
   "metadata": {},
   "outputs": [],
   "source": [
    "# albumentation 사용 \n",
    "train_transforms = A.Compose([\n",
    "    A.Resize(256,256),\n",
    "    A.Normalize([0.485, 0.456, 0.406],[0.229, 0.224, 0.225]),\n",
    "    A.pytorch.transforms.ToTensor()\n",
    "])\n",
    "\n",
    "val_transforms = A.Compose([\n",
    "    A.Resize(256,256),\n",
    "    A.Normalize([0.485, 0.456, 0.406],[0.229, 0.224, 0.225]),\n",
    "    A.pytorch.transforms.ToTensor()\n",
    "])"
   ]
  },
  {
   "cell_type": "code",
   "execution_count": 6,
   "id": "direct-fraction",
   "metadata": {
    "tags": []
   },
   "outputs": [],
   "source": [
    "train_x , val_x , train_y , val_y = train_test_split(df , df['label'] , test_size=0.3 , shuffle = False)\n",
    "\n",
    "train_dataset = CustomDataset(img_path , train_x , train_transforms)\n",
    "val_dataset = CustomDataset(img_path , val_x , val_transforms)\n",
    "\n",
    "train_loader = torch.utils.data.DataLoader(train_dataset, batch_size = batch_size , shuffle = True , num_workers = num_workers)\n",
    "val_loader = torch.utils.data.DataLoader(val_dataset, batch_size = batch_size , shuffle = True , num_workers = num_workers)"
   ]
  },
  {
   "cell_type": "code",
   "execution_count": 7,
   "id": "skilled-sigma",
   "metadata": {},
   "outputs": [],
   "source": [
    "class BaseModel(nn.Module):\n",
    "    def __init__(self):\n",
    "        super().__init__()\n",
    "        self.model = models.resnet50(pretrained = 'True')\n",
    "        self.ReLU = nn.ReLU(True)\n",
    "        self.fc1 = nn.Linear(1000,18)\n",
    "        \n",
    "    def forward(self,x):\n",
    "        x = self.model(x)\n",
    "        x = self.ReLU(x)\n",
    "        x = self.fc1(x)\n",
    "        return x"
   ]
  },
  {
   "cell_type": "markdown",
   "id": "atmospheric-survival",
   "metadata": {},
   "source": [
    "-------------------------------------------\n",
    "### Mission2 \n",
    "- F1 SCORE 구현해보기 "
   ]
  },
  {
   "cell_type": "code",
   "execution_count": 8,
   "id": "thrown-player",
   "metadata": {},
   "outputs": [],
   "source": [
    "# # Micro F1 구현 \n",
    "\n",
    "\n",
    "# def train(epochs , train_loader, val_loader , model , criterion , optimizer , lr_scheduler):\n",
    "#     eps = 1e-8\n",
    "#     best_model_wts = copy.deepcopy(model.state_dict())\n",
    "#     best_epoch = 0\n",
    "#     best_val_loss = 999999999\n",
    "    \n",
    "#     for epoch in range(epochs):\n",
    "#         ##################################### train ################################\n",
    "#         model.train()\n",
    "        \n",
    "#         loss_train_sum = 0\n",
    "#         acc_train_sum = 0\n",
    "#         f1_train_sum = 0\n",
    "#         scikit_f1_sum = 0\n",
    "\n",
    "#         num_class = 18\n",
    "        \n",
    "#         for i , (img , target) in enumerate(tqdm(train_loader)):\n",
    "#             img = img.to(device)\n",
    "#             target = target.to(device)\n",
    "            \n",
    "#             y_pred = model.forward(img)\n",
    "#             _, preds = torch.max(y_pred, 1)\n",
    "#             loss = criterion(y_pred, target)\n",
    "            \n",
    "#             optimizer.zero_grad()\n",
    "#             loss.backward()\n",
    "#             optimizer.step()\n",
    "\n",
    "#             loss_train_sum += loss.item()\n",
    "#             acc_train_sum += (preds == target).sum().item()/ batch_size\n",
    "            \n",
    "#             ###################################F1 SCORE###################################\n",
    "# #             FN = 0\n",
    "# #             FP = 0\n",
    "# #             TP = 0\n",
    "\n",
    "# #             for n in range(num_class):# class 번호 \n",
    "# #                 for gt , pred in zip(target.data.cpu(), preds.cpu()):\n",
    "# #                     if gt == n and n != pred : \n",
    "# #                         FN += 1 \n",
    "# #                     if gt != n and n == pred:\n",
    "# #                         FP += 1\n",
    "# #                     if gt == n and n == pred : \n",
    "# #                         TP += 1\n",
    "# #             precision = TP / (TP + FP)\n",
    "# #             recall = TP / (TP + FN)\n",
    "# #             f1_train = 2 * (precision * recall) / (precision + recall + eps)\n",
    "# #             f1_train_sum += f1_train\n",
    "                        \n",
    "                \n",
    "#             scikit_f1_sum += f1_score(target.data.detach().cpu(), preds.detach().cpu(), average='micro')\n",
    "#             ###################################F1 SCORE###################################\n",
    "        \n",
    "#         loss_train_avg = loss_train_sum / len(train_loader)\n",
    "#         acc_train_avg = acc_train_sum / len(train_loader)\n",
    "#         # f1_train_avg = f1_train_sum / len(train_loader)\n",
    "#         scikit_f1_train_avg = scikit_f1_sum / len(train_loader)\n",
    "\n",
    "#         print(f\" epoch:[{epoch+1}/{epochs}] cost:[{loss_train_avg:.3f}] acc : [{acc_train_avg : .3f}]  scikit_f1_avg : [{scikit_f1_train_avg : .3f}]\")\n",
    "#         # print(f\" my f1 : [{f1_train_avg : .3f}]  scikit_f1_avg : [{scikit_f1_train_avg : .3f}]\")\n",
    "        \n",
    " \n",
    "#         ##################################### eval ################################\n",
    "#         model.eval()\n",
    "        \n",
    "#         loss_val_sum = 0\n",
    "#         acc_val_sum = 0\n",
    "#         f1_val_sum = 0\n",
    "#         scikit_f1_val_sum = 0\n",
    "\n",
    "        \n",
    "#         for i , (img , target) in enumerate(tqdm(val_loader)):\n",
    "#             img = img.to(device)\n",
    "#             target = target.to(device)\n",
    "            \n",
    "#             with torch.no_grad():\n",
    "#                 y_pred = model.forward(img)\n",
    "#                 _, preds = torch.max(y_pred, 1)\n",
    "#                 loss = criterion(y_pred, target)\n",
    "            \n",
    "#             loss_val_sum += loss\n",
    "#             acc_val_sum += (preds == target).sum().item()/ batch_size\n",
    "            \n",
    "#         ###################################F1 SCORE###################################\n",
    "# #             FN = 0\n",
    "# #             FP = 0\n",
    "# #             TP = 0\n",
    "\n",
    "# #             for n in range(num_class):# class 번호 \n",
    "# #                 for gt , pred in zip(target.data.cpu(), preds.cpu()):\n",
    "                    \n",
    "# #                     if gt == n and n != pred : \n",
    "# #                         FN += 1 \n",
    "# #                     if gt != n and n == pred:\n",
    "# #                         FP += 1\n",
    "# #                     if gt == n == pred : \n",
    "# #                         TP += 1\n",
    "                        \n",
    "# #             precision = TP / (TP + FP)\n",
    "# #             recall = TP / (TP + FN)\n",
    "# #             f1_val = 2 * (precision * recall) / (precision + recall + eps)\n",
    "# #             f1_val_sum += f1_val\n",
    "            \n",
    "#             scikit_f1_val_sum += f1_score(target.data.detach().cpu(), preds.detach().cpu(), average='micro')\n",
    "#         ###################################F1 SCORE###################################\n",
    "#         loss_val_avg = loss_val_sum / len(val_loader)\n",
    "#         acc_val_avg = acc_val_sum / len(val_loader)\n",
    "#        #  f1_val_avg = f1_val_sum / len(val_loader)\n",
    "#         scikit_f1_val_avg = scikit_f1_val_sum / len(val_loader)\n",
    "        \n",
    "        \n",
    "#         print(f\" epoch:[{epoch+1}/{epochs}] cost:[{loss_val_avg:.3f}] acc : [{acc_val_avg : .3f}]  scikit f1 : [{scikit_f1_val_avg : .3f}] \")\n",
    "#         # print(f\" my f1 : [{f1_val_avg : .3f}] scikit f1 : [{scikit_f1_val_avg : .3f}]\")\n",
    "#         lr_scheduler.step()\n",
    "        \n",
    "#         # 0401 Mission \n",
    "#         if best_val_loss > loss_val_avg:\n",
    "#             best_val_loss = loss_val_avg\n",
    "#             best_epoch = epoch\n",
    "#             best_model_wts = copy.deepcopy(model.state_dict())    \n",
    "        \n",
    "    \n",
    "#     # load best model weights\n",
    "#     model.load_state_dict(best_model_wts)\n",
    "#     torch.save(model.state_dict(), f'baseline_{best_epoch}.pt')"
   ]
  },
  {
   "cell_type": "code",
   "execution_count": 9,
   "id": "immune-maximum",
   "metadata": {},
   "outputs": [],
   "source": [
    "# Macro 구현 \n",
    "def train(epochs , train_loader, val_loader , model , criterion , optimizer , lr_scheduler):\n",
    "    \n",
    "    eps = 1e-8\n",
    "    best_model_wts = copy.deepcopy(model.state_dict())\n",
    "    best_epoch = 0\n",
    "    best_val_loss = 999999999\n",
    "    \n",
    "    for epoch in range(epochs):\n",
    "        ##################################### train ################################\n",
    "        model.train()\n",
    "        \n",
    "        loss_train_sum = 0\n",
    "        acc_train_sum = 0\n",
    "        f1_train_sum = 0\n",
    "        scikit_f1_train_sum = 0\n",
    "  \n",
    "        \n",
    "        for i , (img , target) in enumerate(tqdm(train_loader)):\n",
    "            img = img.to(device)\n",
    "            target = target.to(device)\n",
    "            \n",
    "            y_pred = model.forward(img)\n",
    "            _, preds = torch.max(y_pred, 1)\n",
    "            loss = criterion(y_pred, target)\n",
    "            \n",
    "            optimizer.zero_grad()\n",
    "            loss.backward()\n",
    "            optimizer.step()\n",
    "\n",
    "            loss_train_sum += loss\n",
    "            acc_train_sum += (preds == target).sum().item()/ batch_size\n",
    "            \n",
    "            ###################################F1 SCORE###################################\n",
    "            # 클래스 별로  f1을 계산한 다음 클래스 개수만큼 나눠줘야한다. \n",
    "            f1_dic = {}\n",
    "            for n in range(num_class):# class 번호 \n",
    "                FN = 0\n",
    "                FP = 0\n",
    "                TP = 0\n",
    "                \n",
    "                for gt , pred in zip(target.data.cpu(), preds.cpu()):\n",
    "                    if gt == n and n != pred : \n",
    "                        FN += 1 \n",
    "                    if gt != n and n == pred:\n",
    "                        FP += 1\n",
    "                    if gt == n and n == pred : \n",
    "                        TP += 1\n",
    "                \n",
    "                precision = TP / (TP + FP + eps)\n",
    "                recall = TP / (TP + FN + eps)         \n",
    "                f1_dic[n] = 2 * (precision * recall) / (precision + recall + eps)\n",
    "            \n",
    "            #class별 f1 계산 끝! \n",
    "            print(f1_dic)\n",
    "            f1_train = sum(list(f1_dic.values())) / num_class\n",
    "            f1_train_sum += f1_train\n",
    "            scikit_f1_train_sum += f1_score(target.data.detach().cpu(), preds.detach().cpu(), average='macro')\n",
    "            \n",
    "            ###################################F1 SCORE###################################\n",
    "        \n",
    "        loss_train_avg = loss_train_sum / len(train_loader)\n",
    "        acc_train_avg = acc_train_sum / len(train_loader)\n",
    "        f1_train_avg = f1_train_sum / len(train_loader)\n",
    "        scikit_f1_train_avg = scikit_f1_train_sum / len(train_loader)\n",
    "        \n",
    "        print(f\" epoch:[{epoch+1}/{epochs}] cost:[{loss_train_avg:.3f}] acc : [{acc_train_avg : .3f}] f1 : [{f1_train_avg : .3f}] scikit_f1 : [{scikit_f1_train_avg : .3f}]\")\n",
    "        \n",
    " \n",
    "        ##################################### eval ################################\n",
    "        model.eval()\n",
    "        \n",
    "        loss_val_sum = 0\n",
    "        acc_val_sum = 0\n",
    "        val_val_sum = 0\n",
    "        scikit_f1_val_sum = 0\n",
    "        \n",
    "        FN = 0\n",
    "        FP = 0\n",
    "        TP = 0\n",
    "        \n",
    "        for i , (img , target) in enumerate(tqdm(val_loader)):\n",
    "            img = img.to(device)\n",
    "            target = target.to(device)\n",
    "            \n",
    "            with torch.no_grad():\n",
    "                y_pred = model.forward(img)\n",
    "                _, preds = torch.max(y_pred, 1)\n",
    "                loss = criterion(y_pred, target)\n",
    "                \n",
    "            \n",
    "            loss_val_sum += loss\n",
    "            acc_val_sum += (preds == target).sum().item()/ batch_size\n",
    "            \n",
    "         ###################################F1 SCORE###################################\n",
    "            # 클래스 별로  f1을 계산한 다음 클래스 개수만큼 나눠줘야한다. \n",
    "            f1_dic = {}\n",
    "            for n in range(num_class):# class 번호 \n",
    "                FN = 0\n",
    "                FP = 0\n",
    "                TP = 0\n",
    "                \n",
    "                for gt , pred in zip(target.data.cpu(), preds.cpu()):\n",
    "                    if gt == n and n != pred : \n",
    "                        FN += 1 \n",
    "                    if gt != n and n == pred:\n",
    "                        FP += 1\n",
    "                    if gt == n and n == pred : \n",
    "                        TP += 1\n",
    "                \n",
    "                precision = TP / (TP + FP + eps)\n",
    "                recall = TP / (TP + FN + eps)         \n",
    "                f1_dic[n] = 2 * (precision * recall) / (precision + recall + eps)\n",
    "            \n",
    "            #class별 f1 계산 끝! \n",
    "            f1_val = sum(list(f1_dic.values())) / num_class\n",
    "            f1_val_sum += f1_val\n",
    "            \n",
    "            scikit_f1_val_sum += f1_score(target.data.detach().cpu(), preds.detach().cpu(), average='macro')\n",
    "            \n",
    "            ###################################F1 SCORE###################################\n",
    "        \n",
    "        \n",
    "        loss_val_avg = loss_val_sum / len(val_loader)\n",
    "        acc_val_avg = acc_val_sum / len(val_loader)\n",
    "        f1_val_avg = f1_val_sum / len(val_loader)\n",
    "        scikit_f1_val_avg = scikit_f1_val_sum / len(train_loader)\n",
    "        \n",
    "        print(f\" epoch:[{epoch+1}/{epochs}] cost:[{loss_val_avg:.3f}] acc : [{acc_val_avg : .3f}]  f1 : [{f1_val_avg : .3f}]  scikit_f1 : [{scikit_f1_val_avg : .3f}]\")\n",
    "        \n",
    "        lr_scheduler.step()\n",
    "        \n",
    "        # 0401 Mission \n",
    "        if best_val_loss > loss_val_avg:\n",
    "            best_val_loss = loss_val_avg\n",
    "            best_epoch = epoch\n",
    "            best_model_wts = copy.deepcopy(model.state_dict())    \n",
    "        \n",
    "    \n",
    "    # load best model weights\n",
    "    model.load_state_dict(best_model_wts)\n",
    "    torch.save(model.state_dict(), f'baseline_{best_epoch}.pt')"
   ]
  },
  {
   "cell_type": "code",
   "execution_count": 10,
   "id": "sixth-guest",
   "metadata": {},
   "outputs": [],
   "source": [
    "# # # weighted F1\n",
    "# from collections import Counter\n",
    "\n",
    "# def train(epochs , train_loader, val_loader , model , criterion , optimizer , lr_scheduler):\n",
    "    \n",
    "#     best_model_wts = copy.deepcopy(model.state_dict())\n",
    "#     best_epoch = 0\n",
    "#     best_val_loss = 999999999\n",
    "#     eps  = 1e-8\n",
    "    \n",
    "#     for epoch in range(epochs):\n",
    "#         ##################################### train ################################\n",
    "#         model.train()\n",
    "        \n",
    "#         loss_train_sum = 0\n",
    "#         acc_train_sum = 0\n",
    "#         f1_train_sum = 0\n",
    "#         scikit_f1_train_sum = 0\n",
    "  \n",
    "        \n",
    "#         for i , (img , target) in enumerate(tqdm(train_loader)):\n",
    "#             img = img.to(device)\n",
    "#             target = target.to(device)\n",
    "            \n",
    "#             y_pred = model.forward(img)\n",
    "#             _, preds = torch.max(y_pred, 1)\n",
    "#             loss = criterion(y_pred, target)\n",
    "            \n",
    "#             optimizer.zero_grad()\n",
    "#             loss.backward()\n",
    "#             optimizer.step()\n",
    "\n",
    "#             loss_train_sum += loss\n",
    "#             acc_train_sum += (preds == target).sum().item()/ batch_size\n",
    "            \n",
    "#             ###################################F1 SCORE###################################\n",
    "#             # 클래스 별로  f1을 계산한 다음 클래스 개수만큼 나눠줘야한다. \n",
    "#             f1_dic = {}\n",
    "#             TC_dic = Counter(target.data.cpu().numpy())\n",
    "#            # print(TC_dic)\n",
    "#             for n in range(num_class):# class 번호 \n",
    "#                 FN = 0\n",
    "#                 FP = 0\n",
    "#                 TP = 0\n",
    "                \n",
    "#                 for gt , pred in zip(target.data.cpu(), preds.cpu()):\n",
    "#                     if gt == n and n != pred : \n",
    "#                         FN += 1 \n",
    "#                     if gt != n and n == pred:\n",
    "#                         FP += 1\n",
    "#                     if gt == n and n== pred : \n",
    "#                         TP += 1\n",
    "                \n",
    "#                 precision = TP / (TP + FP + eps)\n",
    "#                 recall = TP / (TP + FN + eps)         \n",
    "#                 f1_dic[n] = 2 * (precision * recall) / (precision + recall + eps)\n",
    "            \n",
    "#             #class별 f1 계산 끝! \n",
    "#             f1_train = sum([a * b for a , b in zip(list(f1_dic.values()) ,list(TC_dic.values()))]) / sum(list(TC_dic.values()))\n",
    "#             f1_train_sum += f1_train\n",
    "#             scikit_f1_train_sum += f1_score(target.data.detach().cpu(), preds.detach().cpu(), average='weighted')\n",
    "#             ###################################F1 SCORE###################################\n",
    "        \n",
    "#         loss_train_avg = loss_train_sum / len(train_loader)\n",
    "#         acc_train_avg = acc_train_sum / len(train_loader)\n",
    "#         f1_train_avg = f1_train_sum / len(train_loader)\n",
    "#         scikit_f1_train_avg = scikit_f1_train_sum / len(train_loader)\n",
    "#         print(f\" epoch:[{epoch+1}/{epochs}] cost:[{loss_train_avg:.3f}] acc : [{acc_train_avg : .3f}] f1 : [{f1_train_avg : .3f}]  scikit_f1 : [{scikit_f1_train_avg : .3f}]\")\n",
    "        \n",
    " \n",
    "#         ##################################### eval ################################\n",
    "#         model.eval()\n",
    "        \n",
    "#         loss_val_sum = 0\n",
    "#         acc_val_sum = 0\n",
    "#         f1_val_sum = 0\n",
    "#         scikit_f1_train_sum = 0\n",
    "#         FN = 0\n",
    "#         FP = 0\n",
    "#         TP = 0\n",
    "        \n",
    "#         for i , (img , target) in enumerate(tqdm(val_loader)):\n",
    "#             img = img.to(device)\n",
    "#             target = target.to(device)\n",
    "            \n",
    "#             with torch.no_grad():\n",
    "#                 y_pred = model.forward(img)\n",
    "#                 _, preds = torch.max(y_pred, 1)\n",
    "#                 loss = criterion(y_pred, target)\n",
    "            \n",
    "#             loss_val_sum += loss\n",
    "#             acc_val_sum += (preds == target).sum().item()/ batch_size\n",
    "            \n",
    "#          ###################################F1 SCORE###################################\n",
    "#             # 클래스 별로  f1을 계산한 다음 클래스 개수만큼 나눠줘야한다. \n",
    "#             f1_dic = {}\n",
    "#             TC_dic = Counter(target.data.cpu().numpy())\n",
    "#             print(TC_dic)\n",
    "#             for n in range(num_class):# class 번호 \n",
    "#                 FN = 0\n",
    "#                 FP = 0\n",
    "#                 TP = 0\n",
    "                \n",
    "#                 for gt , pred in zip(target.data.cpu(), preds.cpu()):\n",
    "#                     if gt == n and n != pred : \n",
    "#                         FN += 1 \n",
    "#                     if gt != n and n == pred:\n",
    "#                         FP += 1\n",
    "#                     if gt == n == pred : \n",
    "#                         TP += 1\n",
    "                \n",
    "#                 precision = TP / (TP + FP)\n",
    "#                 recall = TP / (TP + FN)         \n",
    "#                 f1_dic[n] = 2 * (precision * recall) / (precision + recall)\n",
    "            \n",
    "#             #class별 f1 계산 끝! \n",
    "#             f1_val = sum(list(f1_dic.values())) / sum(list(TC_dic.values()))\n",
    "#             f1_val_sum += f1_val\n",
    "            \n",
    "            \n",
    "#             scikit_f1_train_sum += f1_score(target.data.detach().cpu(), preds.detach().cpu(), average='weighted')\n",
    "#             ###################################F1 SCORE###################################\n",
    "        \n",
    "        \n",
    "#         loss_val_avg = loss_val_sum / len(val_loader)\n",
    "#         acc_val_avg = acc_val_sum / len(val_loader)\n",
    "#         f1_val_avg = f1_val_sum / len(val_loader)\n",
    "#         scikit_f1_train_avg = scikit_f1_train_sum / len(val_loader)\n",
    "#         print(f\" epoch:[{epoch+1}/{epochs}] cost:[{loss_val_avg:.3f}] acc : [{acc_val_avg : .3f}]  f1 : [{f1_val_avg : .3f}]  scikit_f1 : [{scikit_f1_val_avg : .3f}]\")\n",
    "        \n",
    "#         lr_scheduler.step()\n",
    "        \n",
    "#         # 0401 Mission \n",
    "#         if best_val_loss > loss_val_avg:\n",
    "#             best_val_loss = loss_val_avg\n",
    "#             best_epoch = epoch\n",
    "#             best_model_wts = copy.deepcopy(model.state_dict())    \n",
    "        \n",
    "    \n",
    "#     # load best model weights\n",
    "#     model.load_state_dict(best_model_wts)\n",
    "#     torch.save(model.state_dict(), f'baseline_{best_epoch}.pt')"
   ]
  },
  {
   "cell_type": "markdown",
   "id": "public-group",
   "metadata": {},
   "source": [
    "------------------------------------------------------------\n",
    "### Mission 1\n",
    "- checkpoint를 짜보자"
   ]
  },
  {
   "cell_type": "code",
   "execution_count": 11,
   "id": "rough-driver",
   "metadata": {},
   "outputs": [],
   "source": [
    "#         if best_val_loss > loss_val_loss:\n",
    "#             best_val_loss = loss_val_loss\n",
    "#             best_epoch = epoch\n",
    "#             best_model_wts = copy.deepcopy(model.state_dict())    \n",
    "        \n",
    "    \n",
    "#     load best model weights\n",
    "#     model.load_state_dict(best_model_wts)\n",
    "#     torch.save(model.state_dict(), f'baseline_{best_epoch}.pt')"
   ]
  },
  {
   "cell_type": "markdown",
   "id": "differential-attitude",
   "metadata": {},
   "source": [
    "------------------------------------------------------------"
   ]
  },
  {
   "cell_type": "markdown",
   "id": "wired-setting",
   "metadata": {},
   "source": [
    "--------------------------------------------------------\n",
    "### Mission 3\n",
    "- Gradient Accumulation 을 구현해보자 ! \n",
    "--------------------------------------------------------"
   ]
  },
  {
   "cell_type": "code",
   "execution_count": 12,
   "id": "english-azerbaijan",
   "metadata": {},
   "outputs": [],
   "source": [
    "class F1_Loss(nn.Module):\n",
    "    '''Calculate F1 score. Can work with gpu tensors\n",
    "    \n",
    "    The original implmentation is written by Michal Haltuf on Kaggle.\n",
    "    \n",
    "    Returns\n",
    "    -------\n",
    "    torch.Tensor\n",
    "        `ndim` == 1. epsilon <= val <= 1\n",
    "    \n",
    "    Reference\n",
    "    ---------\n",
    "    - https://www.kaggle.com/rejpalcz/best-loss-function-for-f1-score-metric\n",
    "    - https://scikit-learn.org/stable/modules/generated/sklearn.metrics.f1_score.html#sklearn.metrics.f1_score\n",
    "    - https://discuss.pytorch.org/t/calculating-precision-recall-and-f1-score-in-case-of-multi-label-classification/28265/6\n",
    "    - http://www.ryanzhang.info/python/writing-your-own-loss-function-module-for-pytorch/\n",
    "    '''\n",
    "    def __init__(self, epsilon=1e-7):\n",
    "        super().__init__()\n",
    "        self.epsilon = epsilon\n",
    "        \n",
    "    def forward(self, y_pred, y_true,):\n",
    "    \n",
    "        assert y_pred.ndim == 2\n",
    "        assert y_true.ndim == 1\n",
    "\n",
    "        y_true = F.one_hot(y_true, 18).to(torch.float32)\n",
    "        y_pred = F.softmax(y_pred, dim=1)\n",
    "        \n",
    "        tp = (y_true * y_pred).sum(dim=0).to(torch.float32)\n",
    "        tn = ((1 - y_true) * (1 - y_pred)).sum(dim=0).to(torch.float32)\n",
    "        fp = ((1 - y_true) * y_pred).sum(dim=0).to(torch.float32)\n",
    "        fn = (y_true * (1 - y_pred)).sum(dim=0).to(torch.float32)\n",
    "\n",
    "        precision = tp / (tp + fp + self.epsilon)\n",
    "        recall = tp / (tp + fn + self.epsilon)\n",
    "\n",
    "        f1 = 2* (precision*recall) / (precision + recall + self.epsilon)\n",
    "        f1 = f1.clamp(min=self.epsilon, max=1-self.epsilon)\n",
    "        return 1 - f1.mean()\n",
    "\n",
    "f1_loss = F1_Loss().cuda()\n",
    "\n",
    "class F1_Loss(nn.Module):\n",
    "    \n",
    "    def __init__(self, epsilon=1e-7):\n",
    "        super().__init__()\n",
    "        self.epsilon = epsilon\n",
    "        \n",
    "    def forward(self, y_pred, y_true,):\n",
    "    \n",
    "        assert y_pred.ndim == 2\n",
    "        assert y_true.ndim == 1\n",
    "\n",
    "        y_true = F.one_hot(y_true, 18).to(torch.float32)\n",
    "        y_pred = F.softmax(y_pred, dim=1)\n",
    "        \n",
    "        f1 = f1_score(target.data, preds, average='weighted')\n",
    "        f1 = f1.clamp(min=self.epsilon, max=1-self.epsilon)\n",
    "        return 1 - f1.mean()\n",
    "\n",
    "f1_loss = F1_Loss().cuda()"
   ]
  },
  {
   "cell_type": "code",
   "execution_count": 13,
   "id": "severe-matthew",
   "metadata": {},
   "outputs": [],
   "source": [
    "# Gradient Accumulation \n",
    "\n",
    "def train(epochs , train_loader, val_loader , model , criterion , optimizer , lr_scheduler = None , num_early_stop = 5 , num_accum = 4):\n",
    "    \n",
    "    best_model_wts = copy.deepcopy(model.state_dict())\n",
    "    best_epoch = 0\n",
    "    best_val_loss = 999999999\n",
    "    eps  = 1e-8\n",
    "    early_stop = 0\n",
    "    \n",
    "\n",
    "    for epoch in range(epochs):\n",
    "        if early_stop >= num_early_stop : break\n",
    "        \n",
    "        ##################################### train ################################\n",
    "        model.train()\n",
    "        \n",
    "        loss_train_sum = 0\n",
    "        acc_train_sum = 0\n",
    "        scikit_f1_train_sum = 0\n",
    "  \n",
    "        # epoch 시작하기 전 reset \n",
    "        optimizer.zero_grad()\n",
    "    \n",
    "        for i , (img , target) in enumerate(tqdm(train_loader)):\n",
    "            img = img.to(device)\n",
    "            target = target.to(device)\n",
    "            \n",
    "            y_pred = model.forward(img)\n",
    "            _, preds = torch.max(y_pred, 1)\n",
    "            # loss = criterion(y_pred, target) / num_accum            # 어차피 loss가 다 더해져서 나뉘나 , 나뉜 다음에 더해지나 똑같음 \n",
    "            loss = f1_loss(y_pred, target) / num_accum\n",
    "            loss.backward()\n",
    "            \n",
    "            if (i+1) % num_accum == 0:\n",
    "                optimizer.step()\n",
    "                optimizer.zero_grad()\n",
    "            \n",
    "            \n",
    "            loss_train_sum += loss\n",
    "            acc_train_sum += (preds == target).sum().item()/ batch_size\n",
    "            scikit_f1_train_sum += f1_score(target.data.detach().cpu(), preds.detach().cpu(), average='weighted')\n",
    "            ###################################F1 SCORE###################################\n",
    "        \n",
    "        loss_train_avg = loss_train_sum / len(train_loader)\n",
    "        acc_train_avg = acc_train_sum / len(train_loader)\n",
    "        scikit_f1_train_avg = scikit_f1_train_sum / len(train_loader)\n",
    "        \n",
    "        print(f\" epoch:[{epoch+1}/{epochs}] cost:[{loss_train_avg:.3f}] acc : [{acc_train_avg : .3f}] scikit_f1 : [{scikit_f1_train_avg : .3f}]\")\n",
    "        print(f\" learning rate : {lr_scheduler.get_last_lr()}\")\n",
    "        \n",
    " \n",
    "        ##################################### eval ################################\n",
    "        model.eval()\n",
    "        \n",
    "        loss_val_sum = 0\n",
    "        acc_val_sum = 0\n",
    "        f1_val_sum = 0\n",
    "        scikit_f1_val_sum = 0\n",
    "\n",
    "        \n",
    "        for i , (img , target) in enumerate(tqdm(val_loader)):\n",
    "            img = img.to(device)\n",
    "            target = target.to(device)\n",
    "            \n",
    "            with torch.no_grad():\n",
    "                y_pred = model.forward(img)\n",
    "                _, preds = torch.max(y_pred, 1)\n",
    "                # loss = criterion(y_pred, target)\n",
    "                loss = f1_loss(y_pred, target) / num_accum\n",
    "            \n",
    "            loss_val_sum += loss\n",
    "            acc_val_sum += (preds == target).sum().item()/ batch_size\n",
    "            scikit_f1_val_sum += f1_score(target.data.detach().cpu(), preds.detach().cpu(), average='weighted')\n",
    "            ###################################F1 SCORE###################################\n",
    "        \n",
    "        \n",
    "        loss_val_avg = loss_val_sum / len(val_loader)\n",
    "        acc_val_avg = acc_val_sum / len(val_loader)\n",
    "        f1_val_avg = f1_val_sum / len(val_loader)\n",
    "        scikit_f1_val_avg = scikit_f1_val_sum / len(val_loader)\n",
    "        print(f\" epoch:[{epoch+1}/{epochs}] cost:[{loss_val_avg:.3f}] acc : [{acc_val_avg : .3f}] scikit_f1 : [{scikit_f1_val_avg : .3f}]\")\n",
    "        \n",
    "        if lr_scheduler:\n",
    "            lr_scheduler.step()\n",
    "        \n",
    "        # 0401 Mission \n",
    "        if best_val_loss > loss_val_avg:\n",
    "            best_val_loss = loss_val_avg\n",
    "            best_epoch = epoch + 1\n",
    "            best_model_wts = copy.deepcopy(model.state_dict())\n",
    "            \n",
    "            early_stop = 0\n",
    "        \n",
    "        else :\n",
    "            early_stop += 1\n",
    "        \n",
    "    \n",
    "    # load best model weights\n",
    "    model.load_state_dict(best_model_wts)\n",
    "    torch.save(model.state_dict(), f'baseline_accumulaton_{best_epoch}.pt')"
   ]
  },
  {
   "cell_type": "code",
   "execution_count": 14,
   "id": "referenced-patent",
   "metadata": {},
   "outputs": [],
   "source": [
    "# # # weighted F1\n",
    "# from collections import Counter\n",
    "\n",
    "# def train(epochs , train_loader, val_loader , model , criterion , optimizer , lr_scheduler = None , num_early_stop = 5):\n",
    "    \n",
    "#     best_model_wts = copy.deepcopy(model.state_dict())\n",
    "#     best_epoch = 0\n",
    "#     best_val_loss = 999999999\n",
    "#     eps  = 1e-8\n",
    "#     early_stop = 0\n",
    "    \n",
    "\n",
    "#     for epoch in range(epochs):\n",
    "#         if early_stop >= num_early_stop : break\n",
    "        \n",
    "#         ##################################### train ################################\n",
    "#         model.train()\n",
    "        \n",
    "#         loss_train_sum = 0\n",
    "#         acc_train_sum = 0\n",
    "#         scikit_f1_train_sum = 0\n",
    "  \n",
    "        \n",
    "#         for i , (img , target) in enumerate(tqdm(train_loader)):\n",
    "#             img = img.to(device)\n",
    "#             target = target.to(device)\n",
    "            \n",
    "#             y_pred = model.forward(img)\n",
    "#             _, preds = torch.max(y_pred, 1)\n",
    "#             loss = criterion(y_pred, target)\n",
    "            \n",
    "#             optimizer.zero_grad()\n",
    "#             loss.backward()\n",
    "#             optimizer.step()\n",
    "\n",
    "#             loss_train_sum += loss\n",
    "#             acc_train_sum += (preds == target).sum().item()/ batch_size\n",
    "#             scikit_f1_train_sum += f1_score(target.data.detach().cpu(), preds.detach().cpu(), average='weighted')\n",
    "#             ###################################F1 SCORE###################################\n",
    "        \n",
    "#         loss_train_avg = loss_train_sum / len(train_loader)\n",
    "#         acc_train_avg = acc_train_sum / len(train_loader)\n",
    "#         scikit_f1_train_avg = scikit_f1_train_sum / len(train_loader)\n",
    "        \n",
    "#         print(f\" epoch:[{epoch+1}/{epochs}] cost:[{loss_train_avg:.3f}] acc : [{acc_train_avg : .3f}] scikit_f1 : [{scikit_f1_train_avg : .3f}]\")\n",
    "        \n",
    " \n",
    "#         ##################################### eval ################################\n",
    "#         model.eval()\n",
    "        \n",
    "#         loss_val_sum = 0\n",
    "#         acc_val_sum = 0\n",
    "#         f1_val_sum = 0\n",
    "#         scikit_f1_val_sum = 0\n",
    "        \n",
    "#         for i , (img , target) in enumerate(tqdm(val_loader)):\n",
    "#             img = img.to(device)\n",
    "#             target = target.to(device)\n",
    "            \n",
    "#             with torch.no_grad():\n",
    "#                 y_pred = model.forward(img)\n",
    "#                 _, preds = torch.max(y_pred, 1)\n",
    "#                 loss = criterion(y_pred, target)\n",
    "            \n",
    "#             loss_val_sum += loss\n",
    "#             acc_val_sum += (preds == target).sum().item()/ batch_size\n",
    "#             scikit_f1_val_sum += f1_score(target.data.detach().cpu(), preds.detach().cpu(), average='weighted')\n",
    "#             ###################################F1 SCORE###################################\n",
    "        \n",
    "        \n",
    "#         loss_val_avg = loss_val_sum / len(val_loader)\n",
    "#         acc_val_avg = acc_val_sum / len(val_loader)\n",
    "#         f1_val_avg = f1_val_sum / len(val_loader)\n",
    "#         scikit_f1_val_avg = scikit_f1_val_sum / len(val_loader)\n",
    "#         print(f\" epoch:[{epoch+1}/{epochs}] cost:[{loss_val_avg:.3f}] acc : [{acc_val_avg : .3f}] scikit_f1 : [{scikit_f1_val_avg : .3f}]\")\n",
    "        \n",
    "#         if lr_scheduler:\n",
    "#             lr_scheduler.step()\n",
    "        \n",
    "#         # 0401 Mission \n",
    "#         if best_val_loss > loss_val_avg:\n",
    "#             best_val_loss = loss_val_avg\n",
    "#             best_epoch = epoch\n",
    "#             best_model_wts = copy.deepcopy(model.state_dict())\n",
    "            \n",
    "#             early_stop = 0\n",
    "        \n",
    "#         else :\n",
    "#             early_stop += 1\n",
    "        \n",
    "    \n",
    "#     # load best model weights\n",
    "#     model.load_state_dict(best_model_wts)\n",
    "#     torch.save(model.state_dict(), f'baseline_{best_epoch}.pt')"
   ]
  },
  {
   "cell_type": "code",
   "execution_count": 15,
   "id": "comparative-accident",
   "metadata": {},
   "outputs": [],
   "source": [
    "Model = BaseModel().to(device)\n",
    "criterion = nn.CrossEntropyLoss()\n",
    "optimizer = optim.AdamW(Model.parameters(), lr=1e-3, weight_decay=0.01)\n",
    "lr_scheduler = torch.optim.lr_scheduler.CosineAnnealingWarmRestarts(optimizer, 5, T_mult = 2, eta_min=1e-6)"
   ]
  },
  {
   "cell_type": "code",
   "execution_count": 16,
   "id": "pressed-affairs",
   "metadata": {},
   "outputs": [
    {
     "name": "stderr",
     "output_type": "stream",
     "text": [
      "100%|██████████| 104/104 [01:39<00:00,  1.05it/s]\n",
      "  0%|          | 0/45 [00:00<?, ?it/s]"
     ]
    },
    {
     "name": "stdout",
     "output_type": "stream",
     "text": [
      " epoch:[1/100] cost:[0.151] acc : [ 0.674] scikit_f1 : [ 0.646]\n",
      " learning rate : [0.001]\n"
     ]
    },
    {
     "name": "stderr",
     "output_type": "stream",
     "text": [
      "100%|██████████| 45/45 [00:16<00:00,  2.78it/s]\n",
      "  0%|          | 0/104 [00:00<?, ?it/s]"
     ]
    },
    {
     "name": "stdout",
     "output_type": "stream",
     "text": [
      " epoch:[1/100] cost:[0.173] acc : [ 0.460] scikit_f1 : [ 0.442]\n"
     ]
    },
    {
     "name": "stderr",
     "output_type": "stream",
     "text": [
      "100%|██████████| 104/104 [01:39<00:00,  1.05it/s]\n",
      "  0%|          | 0/45 [00:00<?, ?it/s]"
     ]
    },
    {
     "name": "stdout",
     "output_type": "stream",
     "text": [
      " epoch:[2/100] cost:[0.113] acc : [ 0.790] scikit_f1 : [ 0.774]\n",
      " learning rate : [0.0009046039886902864]\n"
     ]
    },
    {
     "name": "stderr",
     "output_type": "stream",
     "text": [
      "100%|██████████| 45/45 [00:15<00:00,  2.81it/s]\n",
      "  0%|          | 0/104 [00:00<?, ?it/s]"
     ]
    },
    {
     "name": "stdout",
     "output_type": "stream",
     "text": [
      " epoch:[2/100] cost:[0.172] acc : [ 0.581] scikit_f1 : [ 0.575]\n"
     ]
    },
    {
     "name": "stderr",
     "output_type": "stream",
     "text": [
      "100%|██████████| 104/104 [01:39<00:00,  1.05it/s]\n",
      "  0%|          | 0/45 [00:00<?, ?it/s]"
     ]
    },
    {
     "name": "stdout",
     "output_type": "stream",
     "text": [
      " epoch:[3/100] cost:[0.100] acc : [ 0.821] scikit_f1 : [ 0.806]\n",
      " learning rate : [0.0006548539886902864]\n"
     ]
    },
    {
     "name": "stderr",
     "output_type": "stream",
     "text": [
      "100%|██████████| 45/45 [00:17<00:00,  2.54it/s]\n",
      "  0%|          | 0/104 [00:00<?, ?it/s]"
     ]
    },
    {
     "name": "stdout",
     "output_type": "stream",
     "text": [
      " epoch:[3/100] cost:[0.151] acc : [ 0.624] scikit_f1 : [ 0.642]\n"
     ]
    },
    {
     "name": "stderr",
     "output_type": "stream",
     "text": [
      "100%|██████████| 104/104 [01:39<00:00,  1.05it/s]\n",
      "  0%|          | 0/45 [00:00<?, ?it/s]"
     ]
    },
    {
     "name": "stdout",
     "output_type": "stream",
     "text": [
      " epoch:[4/100] cost:[0.086] acc : [ 0.855] scikit_f1 : [ 0.843]\n",
      " learning rate : [0.0003461460113097139]\n"
     ]
    },
    {
     "name": "stderr",
     "output_type": "stream",
     "text": [
      "100%|██████████| 45/45 [00:16<00:00,  2.78it/s]\n",
      "  0%|          | 0/104 [00:00<?, ?it/s]"
     ]
    },
    {
     "name": "stdout",
     "output_type": "stream",
     "text": [
      " epoch:[4/100] cost:[0.134] acc : [ 0.771] scikit_f1 : [ 0.765]\n"
     ]
    },
    {
     "name": "stderr",
     "output_type": "stream",
     "text": [
      "100%|██████████| 104/104 [01:39<00:00,  1.05it/s]\n",
      "  0%|          | 0/45 [00:00<?, ?it/s]"
     ]
    },
    {
     "name": "stdout",
     "output_type": "stream",
     "text": [
      " epoch:[5/100] cost:[0.070] acc : [ 0.885] scikit_f1 : [ 0.876]\n",
      " learning rate : [9.639601130971382e-05]\n"
     ]
    },
    {
     "name": "stderr",
     "output_type": "stream",
     "text": [
      "100%|██████████| 45/45 [00:16<00:00,  2.75it/s]\n",
      "  0%|          | 0/104 [00:00<?, ?it/s]"
     ]
    },
    {
     "name": "stdout",
     "output_type": "stream",
     "text": [
      " epoch:[5/100] cost:[0.134] acc : [ 0.762] scikit_f1 : [ 0.758]\n"
     ]
    },
    {
     "name": "stderr",
     "output_type": "stream",
     "text": [
      "100%|██████████| 104/104 [01:39<00:00,  1.05it/s]\n",
      "  0%|          | 0/45 [00:00<?, ?it/s]"
     ]
    },
    {
     "name": "stdout",
     "output_type": "stream",
     "text": [
      " epoch:[6/100] cost:[0.093] acc : [ 0.823] scikit_f1 : [ 0.812]\n",
      " learning rate : [0.001]\n"
     ]
    },
    {
     "name": "stderr",
     "output_type": "stream",
     "text": [
      "100%|██████████| 45/45 [00:16<00:00,  2.78it/s]\n",
      "  0%|          | 0/104 [00:00<?, ?it/s]"
     ]
    },
    {
     "name": "stdout",
     "output_type": "stream",
     "text": [
      " epoch:[6/100] cost:[0.157] acc : [ 0.713] scikit_f1 : [ 0.697]\n"
     ]
    },
    {
     "name": "stderr",
     "output_type": "stream",
     "text": [
      "100%|██████████| 104/104 [01:39<00:00,  1.05it/s]\n",
      "  0%|          | 0/45 [00:00<?, ?it/s]"
     ]
    },
    {
     "name": "stdout",
     "output_type": "stream",
     "text": [
      " epoch:[7/100] cost:[0.099] acc : [ 0.802] scikit_f1 : [ 0.791]\n",
      " learning rate : [0.0009755527298894294]\n"
     ]
    },
    {
     "name": "stderr",
     "output_type": "stream",
     "text": [
      "100%|██████████| 45/45 [00:17<00:00,  2.60it/s]\n",
      "  0%|          | 0/104 [00:00<?, ?it/s]"
     ]
    },
    {
     "name": "stdout",
     "output_type": "stream",
     "text": [
      " epoch:[7/100] cost:[0.153] acc : [ 0.712] scikit_f1 : [ 0.693]\n"
     ]
    },
    {
     "name": "stderr",
     "output_type": "stream",
     "text": [
      "100%|██████████| 104/104 [01:39<00:00,  1.05it/s]\n",
      "  0%|          | 0/45 [00:00<?, ?it/s]"
     ]
    },
    {
     "name": "stdout",
     "output_type": "stream",
     "text": [
      " epoch:[8/100] cost:[0.097] acc : [ 0.803] scikit_f1 : [ 0.794]\n",
      " learning rate : [0.0009046039886902864]\n"
     ]
    },
    {
     "name": "stderr",
     "output_type": "stream",
     "text": [
      "100%|██████████| 45/45 [00:16<00:00,  2.73it/s]\n",
      "  0%|          | 0/104 [00:00<?, ?it/s]"
     ]
    },
    {
     "name": "stdout",
     "output_type": "stream",
     "text": [
      " epoch:[8/100] cost:[0.157] acc : [ 0.689] scikit_f1 : [ 0.664]\n"
     ]
    },
    {
     "name": "stderr",
     "output_type": "stream",
     "text": [
      "100%|██████████| 104/104 [01:39<00:00,  1.05it/s]\n",
      "  0%|          | 0/45 [00:00<?, ?it/s]"
     ]
    },
    {
     "name": "stdout",
     "output_type": "stream",
     "text": [
      " epoch:[9/100] cost:[0.089] acc : [ 0.841] scikit_f1 : [ 0.829]\n",
      " learning rate : [0.0007940987335200904]\n"
     ]
    },
    {
     "name": "stderr",
     "output_type": "stream",
     "text": [
      "100%|██████████| 45/45 [00:16<00:00,  2.76it/s]\n",
      "  0%|          | 0/104 [00:00<?, ?it/s]"
     ]
    },
    {
     "name": "stdout",
     "output_type": "stream",
     "text": [
      " epoch:[9/100] cost:[0.146] acc : [ 0.714] scikit_f1 : [ 0.713]\n"
     ]
    },
    {
     "name": "stderr",
     "output_type": "stream",
     "text": [
      "100%|██████████| 104/104 [01:39<00:00,  1.05it/s]\n",
      "  0%|          | 0/45 [00:00<?, ?it/s]"
     ]
    },
    {
     "name": "stdout",
     "output_type": "stream",
     "text": [
      " epoch:[10/100] cost:[0.080] acc : [ 0.861] scikit_f1 : [ 0.850]\n",
      " learning rate : [0.0006548539886902864]\n"
     ]
    },
    {
     "name": "stderr",
     "output_type": "stream",
     "text": [
      "100%|██████████| 45/45 [00:18<00:00,  2.50it/s]\n",
      "  0%|          | 0/104 [00:00<?, ?it/s]"
     ]
    },
    {
     "name": "stdout",
     "output_type": "stream",
     "text": [
      " epoch:[10/100] cost:[0.153] acc : [ 0.720] scikit_f1 : [ 0.703]\n"
     ]
    },
    {
     "name": "stderr",
     "output_type": "stream",
     "text": [
      "100%|██████████| 104/104 [01:39<00:00,  1.04it/s]\n",
      "  0%|          | 0/45 [00:00<?, ?it/s]"
     ]
    },
    {
     "name": "stdout",
     "output_type": "stream",
     "text": [
      " epoch:[11/100] cost:[0.075] acc : [ 0.869] scikit_f1 : [ 0.861]\n",
      " learning rate : [0.0005005000000000001]\n"
     ]
    },
    {
     "name": "stderr",
     "output_type": "stream",
     "text": [
      "100%|██████████| 45/45 [00:16<00:00,  2.76it/s]\n",
      "  0%|          | 0/104 [00:00<?, ?it/s]"
     ]
    },
    {
     "name": "stdout",
     "output_type": "stream",
     "text": [
      " epoch:[11/100] cost:[0.145] acc : [ 0.707] scikit_f1 : [ 0.706]\n"
     ]
    },
    {
     "name": "stderr",
     "output_type": "stream",
     "text": [
      "100%|██████████| 104/104 [01:39<00:00,  1.05it/s]\n",
      "  0%|          | 0/45 [00:00<?, ?it/s]"
     ]
    },
    {
     "name": "stdout",
     "output_type": "stream",
     "text": [
      " epoch:[12/100] cost:[0.070] acc : [ 0.881] scikit_f1 : [ 0.872]\n",
      " learning rate : [0.0003461460113097139]\n"
     ]
    },
    {
     "name": "stderr",
     "output_type": "stream",
     "text": [
      "100%|██████████| 45/45 [00:16<00:00,  2.76it/s]\n",
      "  0%|          | 0/104 [00:00<?, ?it/s]"
     ]
    },
    {
     "name": "stdout",
     "output_type": "stream",
     "text": [
      " epoch:[12/100] cost:[0.153] acc : [ 0.660] scikit_f1 : [ 0.659]\n"
     ]
    },
    {
     "name": "stderr",
     "output_type": "stream",
     "text": [
      "100%|██████████| 104/104 [01:38<00:00,  1.05it/s]\n",
      "  0%|          | 0/45 [00:00<?, ?it/s]"
     ]
    },
    {
     "name": "stdout",
     "output_type": "stream",
     "text": [
      " epoch:[13/100] cost:[0.060] acc : [ 0.904] scikit_f1 : [ 0.898]\n",
      " learning rate : [0.00020690126647990973]\n"
     ]
    },
    {
     "name": "stderr",
     "output_type": "stream",
     "text": [
      "100%|██████████| 45/45 [00:16<00:00,  2.79it/s]\n",
      "  0%|          | 0/104 [00:00<?, ?it/s]"
     ]
    },
    {
     "name": "stdout",
     "output_type": "stream",
     "text": [
      " epoch:[13/100] cost:[0.129] acc : [ 0.750] scikit_f1 : [ 0.776]\n"
     ]
    },
    {
     "name": "stderr",
     "output_type": "stream",
     "text": [
      "100%|██████████| 104/104 [01:39<00:00,  1.05it/s]\n",
      "  0%|          | 0/45 [00:00<?, ?it/s]"
     ]
    },
    {
     "name": "stdout",
     "output_type": "stream",
     "text": [
      " epoch:[14/100] cost:[0.048] acc : [ 0.943] scikit_f1 : [ 0.949]\n",
      " learning rate : [9.639601130971382e-05]\n"
     ]
    },
    {
     "name": "stderr",
     "output_type": "stream",
     "text": [
      "100%|██████████| 45/45 [00:16<00:00,  2.76it/s]\n",
      "  0%|          | 0/104 [00:00<?, ?it/s]"
     ]
    },
    {
     "name": "stdout",
     "output_type": "stream",
     "text": [
      " epoch:[14/100] cost:[0.126] acc : [ 0.776] scikit_f1 : [ 0.787]\n"
     ]
    },
    {
     "name": "stderr",
     "output_type": "stream",
     "text": [
      "100%|██████████| 104/104 [01:39<00:00,  1.05it/s]\n",
      "  0%|          | 0/45 [00:00<?, ?it/s]"
     ]
    },
    {
     "name": "stdout",
     "output_type": "stream",
     "text": [
      " epoch:[15/100] cost:[0.044] acc : [ 0.958] scikit_f1 : [ 0.964]\n",
      " learning rate : [2.5447270110570814e-05]\n"
     ]
    },
    {
     "name": "stderr",
     "output_type": "stream",
     "text": [
      "100%|██████████| 45/45 [00:16<00:00,  2.68it/s]\n",
      "  0%|          | 0/104 [00:00<?, ?it/s]"
     ]
    },
    {
     "name": "stdout",
     "output_type": "stream",
     "text": [
      " epoch:[15/100] cost:[0.125] acc : [ 0.784] scikit_f1 : [ 0.795]\n"
     ]
    },
    {
     "name": "stderr",
     "output_type": "stream",
     "text": [
      "100%|██████████| 104/104 [01:39<00:00,  1.05it/s]\n",
      "  0%|          | 0/45 [00:00<?, ?it/s]"
     ]
    },
    {
     "name": "stdout",
     "output_type": "stream",
     "text": [
      " epoch:[16/100] cost:[0.057] acc : [ 0.917] scikit_f1 : [ 0.924]\n",
      " learning rate : [0.001]\n"
     ]
    },
    {
     "name": "stderr",
     "output_type": "stream",
     "text": [
      "100%|██████████| 45/45 [00:16<00:00,  2.80it/s]\n",
      "  0%|          | 0/104 [00:00<?, ?it/s]"
     ]
    },
    {
     "name": "stdout",
     "output_type": "stream",
     "text": [
      " epoch:[16/100] cost:[0.150] acc : [ 0.672] scikit_f1 : [ 0.678]\n"
     ]
    },
    {
     "name": "stderr",
     "output_type": "stream",
     "text": [
      "100%|██████████| 104/104 [01:39<00:00,  1.05it/s]\n",
      "  0%|          | 0/45 [00:00<?, ?it/s]"
     ]
    },
    {
     "name": "stdout",
     "output_type": "stream",
     "text": [
      " epoch:[17/100] cost:[0.072] acc : [ 0.865] scikit_f1 : [ 0.872]\n",
      " learning rate : [0.0009938503261272714]\n"
     ]
    },
    {
     "name": "stderr",
     "output_type": "stream",
     "text": [
      "100%|██████████| 45/45 [00:16<00:00,  2.71it/s]\n",
      "  0%|          | 0/104 [00:00<?, ?it/s]"
     ]
    },
    {
     "name": "stdout",
     "output_type": "stream",
     "text": [
      " epoch:[17/100] cost:[0.165] acc : [ 0.593] scikit_f1 : [ 0.592]\n"
     ]
    },
    {
     "name": "stderr",
     "output_type": "stream",
     "text": [
      "100%|██████████| 104/104 [01:39<00:00,  1.05it/s]\n",
      "  0%|          | 0/45 [00:00<?, ?it/s]"
     ]
    },
    {
     "name": "stdout",
     "output_type": "stream",
     "text": [
      " epoch:[18/100] cost:[0.078] acc : [ 0.838] scikit_f1 : [ 0.845]\n",
      " learning rate : [0.0009755527298894294]\n"
     ]
    },
    {
     "name": "stderr",
     "output_type": "stream",
     "text": [
      "100%|██████████| 45/45 [00:16<00:00,  2.77it/s]\n",
      "  0%|          | 0/104 [00:00<?, ?it/s]"
     ]
    },
    {
     "name": "stdout",
     "output_type": "stream",
     "text": [
      " epoch:[18/100] cost:[0.153] acc : [ 0.627] scikit_f1 : [ 0.632]\n"
     ]
    },
    {
     "name": "stderr",
     "output_type": "stream",
     "text": [
      "100%|██████████| 104/104 [01:39<00:00,  1.05it/s]\n",
      "  0%|          | 0/45 [00:00<?, ?it/s]"
     ]
    },
    {
     "name": "stdout",
     "output_type": "stream",
     "text": [
      " epoch:[19/100] cost:[0.079] acc : [ 0.833] scikit_f1 : [ 0.840]\n",
      " learning rate : [0.0009455577588320898]\n"
     ]
    },
    {
     "name": "stderr",
     "output_type": "stream",
     "text": [
      "100%|██████████| 45/45 [00:15<00:00,  2.85it/s]\n",
      "  0%|          | 0/104 [00:00<?, ?it/s]"
     ]
    },
    {
     "name": "stdout",
     "output_type": "stream",
     "text": [
      " epoch:[19/100] cost:[0.152] acc : [ 0.670] scikit_f1 : [ 0.667]\n"
     ]
    },
    {
     "name": "stderr",
     "output_type": "stream",
     "text": [
      "100%|██████████| 104/104 [01:39<00:00,  1.05it/s]\n",
      "  0%|          | 0/45 [00:00<?, ?it/s]"
     ]
    },
    {
     "name": "stdout",
     "output_type": "stream",
     "text": [
      " epoch:[20/100] cost:[0.075] acc : [ 0.855] scikit_f1 : [ 0.861]\n",
      " learning rate : [0.0009046039886902864]\n"
     ]
    },
    {
     "name": "stderr",
     "output_type": "stream",
     "text": [
      "100%|██████████| 45/45 [00:16<00:00,  2.76it/s]\n",
      "  0%|          | 0/104 [00:00<?, ?it/s]"
     ]
    },
    {
     "name": "stdout",
     "output_type": "stream",
     "text": [
      " epoch:[20/100] cost:[0.134] acc : [ 0.651] scikit_f1 : [ 0.694]\n"
     ]
    },
    {
     "name": "stderr",
     "output_type": "stream",
     "text": [
      "100%|██████████| 104/104 [01:39<00:00,  1.05it/s]\n",
      "  0%|          | 0/45 [00:00<?, ?it/s]"
     ]
    },
    {
     "name": "stdout",
     "output_type": "stream",
     "text": [
      " epoch:[21/100] cost:[0.071] acc : [ 0.873] scikit_f1 : [ 0.877]\n",
      " learning rate : [0.0008536998372026805]\n"
     ]
    },
    {
     "name": "stderr",
     "output_type": "stream",
     "text": [
      "100%|██████████| 45/45 [00:16<00:00,  2.81it/s]\n",
      "  0%|          | 0/104 [00:00<?, ?it/s]"
     ]
    },
    {
     "name": "stdout",
     "output_type": "stream",
     "text": [
      " epoch:[21/100] cost:[0.130] acc : [ 0.790] scikit_f1 : [ 0.796]\n"
     ]
    },
    {
     "name": "stderr",
     "output_type": "stream",
     "text": [
      "100%|██████████| 104/104 [01:39<00:00,  1.05it/s]\n",
      "  0%|          | 0/45 [00:00<?, ?it/s]"
     ]
    },
    {
     "name": "stdout",
     "output_type": "stream",
     "text": [
      " epoch:[22/100] cost:[0.074] acc : [ 0.863] scikit_f1 : [ 0.869]\n",
      " learning rate : [0.0007940987335200904]\n"
     ]
    },
    {
     "name": "stderr",
     "output_type": "stream",
     "text": [
      "100%|██████████| 45/45 [00:16<00:00,  2.80it/s]\n",
      "  0%|          | 0/104 [00:00<?, ?it/s]"
     ]
    },
    {
     "name": "stdout",
     "output_type": "stream",
     "text": [
      " epoch:[22/100] cost:[0.135] acc : [ 0.765] scikit_f1 : [ 0.773]\n"
     ]
    },
    {
     "name": "stderr",
     "output_type": "stream",
     "text": [
      "100%|██████████| 104/104 [01:39<00:00,  1.05it/s]\n",
      "  0%|          | 0/45 [00:00<?, ?it/s]"
     ]
    },
    {
     "name": "stdout",
     "output_type": "stream",
     "text": [
      " epoch:[23/100] cost:[0.065] acc : [ 0.887] scikit_f1 : [ 0.894]\n",
      " learning rate : [0.0007272682546199037]\n"
     ]
    },
    {
     "name": "stderr",
     "output_type": "stream",
     "text": [
      "100%|██████████| 45/45 [00:15<00:00,  2.82it/s]\n",
      "  0%|          | 0/104 [00:00<?, ?it/s]"
     ]
    },
    {
     "name": "stdout",
     "output_type": "stream",
     "text": [
      " epoch:[23/100] cost:[0.138] acc : [ 0.721] scikit_f1 : [ 0.732]\n"
     ]
    },
    {
     "name": "stderr",
     "output_type": "stream",
     "text": [
      "100%|██████████| 104/104 [01:39<00:00,  1.05it/s]\n",
      "  0%|          | 0/45 [00:00<?, ?it/s]"
     ]
    },
    {
     "name": "stdout",
     "output_type": "stream",
     "text": [
      " epoch:[24/100] cost:[0.062] acc : [ 0.901] scikit_f1 : [ 0.907]\n",
      " learning rate : [0.0006548539886902864]\n"
     ]
    },
    {
     "name": "stderr",
     "output_type": "stream",
     "text": [
      "100%|██████████| 45/45 [00:16<00:00,  2.81it/s]\n",
      "  0%|          | 0/104 [00:00<?, ?it/s]"
     ]
    },
    {
     "name": "stdout",
     "output_type": "stream",
     "text": [
      " epoch:[24/100] cost:[0.128] acc : [ 0.758] scikit_f1 : [ 0.768]\n"
     ]
    },
    {
     "name": "stderr",
     "output_type": "stream",
     "text": [
      "100%|██████████| 104/104 [01:39<00:00,  1.05it/s]\n",
      "  0%|          | 0/45 [00:00<?, ?it/s]"
     ]
    },
    {
     "name": "stdout",
     "output_type": "stream",
     "text": [
      " epoch:[25/100] cost:[0.063] acc : [ 0.896] scikit_f1 : [ 0.903]\n",
      " learning rate : [0.0005786390152875954]\n"
     ]
    },
    {
     "name": "stderr",
     "output_type": "stream",
     "text": [
      "100%|██████████| 45/45 [00:16<00:00,  2.67it/s]\n"
     ]
    },
    {
     "name": "stdout",
     "output_type": "stream",
     "text": [
      " epoch:[25/100] cost:[0.141] acc : [ 0.749] scikit_f1 : [ 0.753]\n"
     ]
    }
   ],
   "source": [
    "train(epochs , train_loader , val_loader , Model, criterion , optimizer , lr_scheduler , num_early_stop = early_stop , num_accum = 4 )"
   ]
  },
  {
   "cell_type": "code",
   "execution_count": 17,
   "id": "involved-creativity",
   "metadata": {},
   "outputs": [],
   "source": [
    "class TestDataset(Dataset):\n",
    "    def __init__(self, img_paths, transform):\n",
    "        self.img_paths = img_paths\n",
    "        self.transform = transform\n",
    "\n",
    "    def __getitem__(self, index):\n",
    "        image = Image.open(self.img_paths[index])\n",
    "\n",
    "        if self.transform:\n",
    "            image = self.transform(image)\n",
    "        return image\n",
    "\n",
    "    def __len__(self):\n",
    "        return len(self.img_paths)"
   ]
  },
  {
   "cell_type": "code",
   "execution_count": 18,
   "id": "broad-tutorial",
   "metadata": {},
   "outputs": [],
   "source": [
    "test_dir = 'input/data/eval'"
   ]
  },
  {
   "cell_type": "code",
   "execution_count": 20,
   "id": "indoor-prototype",
   "metadata": {},
   "outputs": [
    {
     "name": "stdout",
     "output_type": "stream",
     "text": [
      "test inference is done!\n"
     ]
    }
   ],
   "source": [
    "img_size = 256\n",
    "# meta 데이터와 이미지 경로를 불러옵니다.\n",
    "submission = pd.read_csv(os.path.join(test_dir, 'info.csv'))\n",
    "image_dir = os.path.join(test_dir, 'images')\n",
    "\n",
    "# Test Dataset 클래스 객체를 생성하고 DataLoader를 만듭니다.\n",
    "image_paths = [os.path.join(image_dir, img_id) for img_id in submission.ImageID]\n",
    "transform = transforms.Compose([\n",
    "                                    transforms.Resize((img_size, img_size)),\n",
    "                                    transforms.ToTensor(),\n",
    "                                    transforms.Normalize([0.485, 0.456, 0.406],\n",
    "                                                         [0.229, 0.224, 0.225])])\n",
    "dataset = TestDataset(image_paths, transform)\n",
    "\n",
    "loader = DataLoader(\n",
    "    dataset,\n",
    "    shuffle=False\n",
    ")\n",
    "\n",
    "# 모델을 정의합니다. (학습한 모델이 있다면 torch.load로 모델을 불러주세요!)\n",
    "Model.eval()\n",
    "\n",
    "# 모델이 테스트 데이터셋을 예측하고 결과를 저장합니다.\n",
    "all_predictions = []\n",
    "for images in loader:\n",
    "    with torch.no_grad():\n",
    "        images = images.to(device)\n",
    "        pred = Model(images)\n",
    "        pred = pred.argmax(dim=-1)\n",
    "        all_predictions.extend(pred.cpu().numpy())\n",
    "submission['ans'] = all_predictions\n",
    "\n",
    "# 제출할 파일을 저장합니다.\n",
    "submission.to_csv(os.path.join(test_dir, 'f1loss_CAWS_AdamW_submission.csv'), index=False)\n",
    "print('test inference is done!')"
   ]
  }
 ],
 "metadata": {
  "kernelspec": {
   "display_name": "Python 3",
   "language": "python",
   "name": "python3"
  },
  "language_info": {
   "codemirror_mode": {
    "name": "ipython",
    "version": 3
   },
   "file_extension": ".py",
   "mimetype": "text/x-python",
   "name": "python",
   "nbconvert_exporter": "python",
   "pygments_lexer": "ipython3",
   "version": "3.7.7"
  }
 },
 "nbformat": 4,
 "nbformat_minor": 5
}
